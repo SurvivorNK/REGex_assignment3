{
 "cells": [
  {
   "cell_type": "markdown",
   "id": "890f6af3",
   "metadata": {},
   "source": [
    "# Task 3\n",
    "\n",
    "# Registration Id:SIRSS2272\n",
    "\n",
    "# Name: Nishant Kumar"
   ]
  },
  {
   "cell_type": "markdown",
   "id": "696fd7b0",
   "metadata": {},
   "source": [
    "Q1. Write a function to return nth term of Fibonacci sequence."
   ]
  },
  {
   "cell_type": "code",
   "execution_count": 6,
   "id": "d46afef4",
   "metadata": {},
   "outputs": [
    {
     "name": "stdout",
     "output_type": "stream",
     "text": [
      "enter the nth term of series8\n",
      "21\n"
     ]
    }
   ],
   "source": [
    "num=int(input('enter the nth term of series'))\n",
    "def fibo(num):\n",
    "    if num==0:\n",
    "        return 0\n",
    "    elif num==1:\n",
    "        return 1\n",
    "    else:\n",
    "        return (fibo(num-2)+fibo(num-1))\n",
    "print( fibo(num-2)+fibo(num-1))"
   ]
  },
  {
   "cell_type": "markdown",
   "id": "5c41872a",
   "metadata": {},
   "source": [
    "\n",
    "Q2. Write a function to find out GCD of two numbers using EUCLID'S algorithm"
   ]
  },
  {
   "cell_type": "code",
   "execution_count": 7,
   "id": "e0da1821",
   "metadata": {},
   "outputs": [
    {
     "name": "stdout",
     "output_type": "stream",
     "text": [
      "Enter the first number 12\n",
      "Enter the second number 6\n",
      "GCD is 6\n"
     ]
    }
   ],
   "source": [
    "def gcd(n1, n2):\n",
    "    while n1 != 0 and n2 != 0:\n",
    "        x = n1 % n2\n",
    "        n1 = n2\n",
    "        n2 = x\n",
    "    if  n1== 0:\n",
    "        print('GCD is', n2)\n",
    "    else:\n",
    "        print('GCD is', n1)\n",
    "\n",
    "n1 = int(input('Enter the first number '))\n",
    "n2 = int(input('Enter the second number '))\n",
    "if n1 > n2:\n",
    "    n1 = n1\n",
    "    n2 = n2\n",
    "    gcd(n1, n2)\n",
    "elif n1 < n2 :\n",
    "    a = n1\n",
    "    n1 = n2\n",
    "    n2 = a\n",
    "    gcd(n1, n2)\n",
    "else :\n",
    "    print('Both numbers are equal')"
   ]
  },
  {
   "cell_type": "markdown",
   "id": "00acbd6a",
   "metadata": {},
   "source": [
    "Q3. Write a function to find LCM of two number in most optimizers way."
   ]
  },
  {
   "cell_type": "code",
   "execution_count": 8,
   "id": "5dead5b7",
   "metadata": {},
   "outputs": [
    {
     "name": "stdout",
     "output_type": "stream",
     "text": [
      "Enter first number:5\n",
      "Enter second number:6\n",
      "LCM of 5 and 6 is 30\n"
     ]
    }
   ],
   "source": [
    "n1=int(input(\"Enter first number:\"))\n",
    "n2=int(input(\"Enter second number:\"))\n",
    "j=max(n1,n2)\n",
    "while(True):\n",
    "    if (j%n1==0) and (j%n2==0):\n",
    "        result=j\n",
    "        break\n",
    "    else:\n",
    "        j=j+1\n",
    "\n",
    "print(\"LCM of {0} and {1} is {2}\".format(n1,n2,result))"
   ]
  },
  {
   "cell_type": "code",
   "execution_count": null,
   "id": "1d6d7afd",
   "metadata": {},
   "outputs": [],
   "source": []
  }
 ],
 "metadata": {
  "kernelspec": {
   "display_name": "Python 3",
   "language": "python",
   "name": "python3"
  },
  "language_info": {
   "codemirror_mode": {
    "name": "ipython",
    "version": 3
   },
   "file_extension": ".py",
   "mimetype": "text/x-python",
   "name": "python",
   "nbconvert_exporter": "python",
   "pygments_lexer": "ipython3",
   "version": "3.8.8"
  }
 },
 "nbformat": 4,
 "nbformat_minor": 5
}
